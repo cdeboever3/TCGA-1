{
 "metadata": {
  "name": "",
  "signature": "sha256:93ee32332574d4b97ce6a2d6e37710dfd69bf6f819efdbac8f4ca51ee36ffefa"
 },
 "nbformat": 3,
 "nbformat_minor": 0,
 "worksheets": [
  {
   "cells": [
    {
     "cell_type": "markdown",
     "metadata": {},
     "source": [
      "# Global Imports\n",
      "\n",
      "Andy uses this notebook to define various things that he wants\n",
      "available in most notebooks (it basically sets up an environment).\n",
      "I want some of this stuff but not all of it, and the relative \n",
      "paths are bad."
     ]
    },
    {
     "cell_type": "raw",
     "metadata": {},
     "source": [
      "%pylab inline"
     ]
    },
    {
     "cell_type": "code",
     "collapsed": false,
     "input": [
      "import projectpy as ppy"
     ],
     "language": "python",
     "metadata": {},
     "outputs": [
      {
       "ename": "ImportError",
       "evalue": "No module named projectpy",
       "output_type": "pyerr",
       "traceback": [
        "\u001b[1;31m---------------------------------------------------------------------------\u001b[0m\n\u001b[1;31mImportError\u001b[0m                               Traceback (most recent call last)",
        "\u001b[1;32m<ipython-input-2-56ed13ab9884>\u001b[0m in \u001b[0;36m<module>\u001b[1;34m()\u001b[0m\n\u001b[0;32m      1\u001b[0m \u001b[1;32mimport\u001b[0m \u001b[0mos\u001b[0m\u001b[1;33m\u001b[0m\u001b[0m\n\u001b[0;32m      2\u001b[0m \u001b[1;33m\u001b[0m\u001b[0m\n\u001b[1;32m----> 3\u001b[1;33m \u001b[1;32mimport\u001b[0m \u001b[0mprojectpy\u001b[0m \u001b[1;32mas\u001b[0m \u001b[0mppy\u001b[0m\u001b[1;33m\u001b[0m\u001b[0m\n\u001b[0m",
        "\u001b[1;31mImportError\u001b[0m: No module named projectpy"
       ]
      }
     ],
     "prompt_number": 2
    },
    {
     "cell_type": "heading",
     "level": 3,
     "metadata": {},
     "source": [
      "External Package Imports"
     ]
    },
    {
     "cell_type": "code",
     "collapsed": false,
     "input": [
      "import glob\n",
      "import os as os\n",
      "import pickle as pickle\n",
      "\n",
      "import pandas as pd"
     ],
     "language": "python",
     "metadata": {},
     "outputs": [],
     "prompt_number": 4
    },
    {
     "cell_type": "code",
     "collapsed": false,
     "input": [
      "print 'changing to source dirctory'"
     ],
     "language": "python",
     "metadata": {},
     "outputs": [
      {
       "output_type": "stream",
       "stream": "stdout",
       "text": [
        "changing to source dirctory\n"
       ]
      }
     ],
     "prompt_number": 6
    },
    {
     "cell_type": "code",
     "collapsed": false,
     "input": [
      "os.chdir(os.path.join(ppy.root, 'submodules', 'TCGA-1', 'src'))"
     ],
     "language": "python",
     "metadata": {},
     "outputs": [],
     "prompt_number": 7
    },
    {
     "cell_type": "heading",
     "level": 3,
     "metadata": {},
     "source": [
      "Module Imports"
     ]
    },
    {
     "cell_type": "code",
     "collapsed": false,
     "input": [
      "from Stats.Scipy import *\n",
      "from Stats.Survival import *\n",
      "\n",
      "from Processing.Helpers import *\n",
      "\n",
      "from Figures.Helpers import *\n",
      "from Figures.Pandas import *\n",
      "from Figures.Boxplots import *\n",
      "from Figures.Survival import draw_survival_curve, survival_and_stats\n",
      "from Figures.Survival import draw_survival_curves\n",
      "from Figures.Survival import survival_stat_plot"
     ],
     "language": "python",
     "metadata": {},
     "outputs": [],
     "prompt_number": 8
    },
    {
     "cell_type": "code",
     "collapsed": false,
     "input": [
      "import Data.Firehose as FH"
     ],
     "language": "python",
     "metadata": {},
     "outputs": [],
     "prompt_number": 9
    },
    {
     "cell_type": "heading",
     "level": 3,
     "metadata": {},
     "source": [
      "Tweaking Display Parameters"
     ]
    },
    {
     "cell_type": "markdown",
     "metadata": {},
     "source": [
      "Load default custom.css file from ipython profile"
     ]
    },
    {
     "cell_type": "raw",
     "metadata": {},
     "source": [
      "from IPython import utils  \n",
      "from IPython.display import HTML  "
     ]
    },
    {
     "cell_type": "raw",
     "metadata": {},
     "source": [
      "css_file = 'profile_default/static/custom/custom.css'\n",
      "base = utils.path.get_ipython_dir()\n",
      "styles = \"<style>\\n%s\\n</style>\" % (open(os.path.join(base, css_file),'r').read())\n",
      "HTML(styles)"
     ]
    },
    {
     "cell_type": "code",
     "collapsed": false,
     "input": [
      "pd.set_option('precision', 3)\n",
      "pd.set_option('display.width', 300)\n",
      "plt.rcParams['font.size'] = 12"
     ],
     "language": "python",
     "metadata": {},
     "outputs": [],
     "prompt_number": 12
    },
    {
     "cell_type": "code",
     "collapsed": false,
     "input": [
      "'''Color schemes for paper taken from http://colorbrewer2.org/'''\n",
      "colors = plt.rcParams['axes.color_cycle']\n",
      "colors_st = ['#CA0020', '#F4A582', '#92C5DE', '#0571B0']\n",
      "colors_th = ['#E66101', '#FDB863', '#B2ABD2', '#5E3C99']"
     ],
     "language": "python",
     "metadata": {},
     "outputs": []
    },
    {
     "cell_type": "heading",
     "level": 3,
     "metadata": {},
     "source": [
      "Function to Pull a Firehose Run Container"
     ]
    },
    {
     "cell_type": "code",
     "collapsed": false,
     "input": [
      "def get_run(firehose_dir, version='Latest'):\n",
      "    '''\n",
      "    Helper to get a run from the file-system. \n",
      "    '''\n",
      "    path = '{}/ucsd_analyses'.format(firehose_dir)\n",
      "    if version is 'Latest':\n",
      "        version = sorted(os.listdir(path))[-1]\n",
      "    run = pickle.load(open('{}/{}/RunObject.p'.format(path, version), 'rb'))\n",
      "    return run"
     ],
     "language": "python",
     "metadata": {},
     "outputs": [],
     "prompt_number": 14
    },
    {
     "cell_type": "heading",
     "level": 3,
     "metadata": {},
     "source": [
      "Global Run Variables"
     ]
    },
    {
     "cell_type": "code",
     "collapsed": false,
     "input": [
      "os.path.join(ppy.root, 'external_data', 'tcga')"
     ],
     "language": "python",
     "metadata": {},
     "outputs": [
      {
       "ename": "NameError",
       "evalue": "name 'os' is not defined",
       "output_type": "pyerr",
       "traceback": [
        "\u001b[1;31m---------------------------------------------------------------------------\u001b[0m\n\u001b[1;31mNameError\u001b[0m                                 Traceback (most recent call last)",
        "\u001b[1;32m<ipython-input-1-98ce911ced37>\u001b[0m in \u001b[0;36m<module>\u001b[1;34m()\u001b[0m\n\u001b[1;32m----> 1\u001b[1;33m \u001b[0mos\u001b[0m\u001b[1;33m.\u001b[0m\u001b[0mpath\u001b[0m\u001b[1;33m.\u001b[0m\u001b[0mjoin\u001b[0m\u001b[1;33m(\u001b[0m\u001b[0mppy\u001b[0m\u001b[1;33m.\u001b[0m\u001b[0mroot\u001b[0m\u001b[1;33m,\u001b[0m \u001b[1;34m'external_data'\u001b[0m\u001b[1;33m,\u001b[0m \u001b[1;34m'tcga'\u001b[0m\u001b[1;33m)\u001b[0m\u001b[1;33m\u001b[0m\u001b[0m\n\u001b[0m",
        "\u001b[1;31mNameError\u001b[0m: name 'os' is not defined"
       ]
      }
     ],
     "prompt_number": 1
    },
    {
     "cell_type": "code",
     "collapsed": false,
     "input": [
      "OUT_PATH = os.path.join(ppy.root, 'external_data', 'tcga')\n",
      "#'../Data'\n",
      "p = glob.glob(os.path.join(OUT_PATH, 'Firehose*'))[0]\n",
      "RUN_DATE = os.path.split(p)[1].split('__')[1]\n",
      "VERSION = 'all'\n",
      "CANCER = 'HNSC'\n",
      "FIGDIR = '../Figures/'\n",
      "if not os.path.isdir(FIGDIR):\n",
      "    os.makedirs(FIGDIR)"
     ],
     "language": "python",
     "metadata": {},
     "outputs": []
    },
    {
     "cell_type": "heading",
     "level": 3,
     "metadata": {},
     "source": [
      "Read In Data"
     ]
    },
    {
     "cell_type": "markdown",
     "metadata": {},
     "source": [
      "Here we read in the pre-processed data that we downloaded and initialized in the [download_data notebook](download_data.ipynb)."
     ]
    },
    {
     "cell_type": "raw",
     "metadata": {},
     "source": [
      "print 'populating namespace with data'"
     ]
    },
    {
     "cell_type": "raw",
     "metadata": {},
     "source": [
      "run_path  = '{}/Firehose__{}/'.format(OUT_PATH, RUN_DATE)\n",
      "run = get_run(run_path, 'Run_' + VERSION)\n",
      "cancer = run.load_cancer(CANCER)\n",
      "clinical = cancer.load_clinical()\n",
      "\n",
      "mut = cancer.load_data('Mutation')\n",
      "mut.uncompress()\n",
      "cn = cancer.load_data('CN_broad')\n",
      "cn.uncompress()"
     ]
    },
    {
     "cell_type": "markdown",
     "metadata": {},
     "source": [
      "The expression objects we use are the updated ones using only HPV- patients.  We do this becuase the expression uses some global variables as filters, so we need to reform the feature set after we limit the cohort to HPV- patients."
     ]
    },
    {
     "cell_type": "raw",
     "metadata": {},
     "source": [
      "rna = pickle.load(open(cancer.path + '/mRNASeq/store/no_hpv2.p', 'rb'))\n",
      "mirna = pickle.load(open(cancer.path + '/miRNASeq/store/no_hpv2.p', 'rb'))"
     ]
    },
    {
     "cell_type": "heading",
     "level": 3,
     "metadata": {},
     "source": [
      "Process Some Clinical Variables into Namespace"
     ]
    },
    {
     "cell_type": "raw",
     "metadata": {},
     "source": [
      "hpv = clinical.hpv\n",
      "surv = clinical.survival.survival_5y\n",
      "age = clinical.clinical.age.astype(float)\n",
      "old = pd.Series(1.*(age>=75), name='old')"
     ]
    },
    {
     "cell_type": "heading",
     "level": 3,
     "metadata": {},
     "source": [
      "Form Working Set of Patients for Discovery Cohort"
     ]
    },
    {
     "cell_type": "raw",
     "metadata": {},
     "source": [
      "pats = [true_index(hpv == 0), mut.features.columns, cn.features.columns,\n",
      "        surv.unstack().index, rna.features.columns, mirna.features.columns,\n",
      "        true_index(age < 85)]\n",
      "keepers_o = reduce(set.intersection, map(set, pats))\n",
      "keepers_o = pd.Index(keepers_o)\n",
      "len(keepers_o)"
     ]
    }
   ],
   "metadata": {}
  }
 ]
}